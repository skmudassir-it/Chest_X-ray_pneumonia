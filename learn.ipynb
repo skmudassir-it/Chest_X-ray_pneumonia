{
 "cells": [
  {
   "cell_type": "code",
   "execution_count": 1,
   "id": "eac609e8-7497-4352-a701-dd0197941dd1",
   "metadata": {},
   "outputs": [],
   "source": [
    "import numpy as np\n",
    "import matplotlib.pyplot as plt\n",
    "import seaborn as sns\n",
    "from sklearn.metrics import confusion_matrix\n",
    "import tensorflow as tf"
   ]
  },
  {
   "cell_type": "code",
   "execution_count": 2,
   "id": "600888d0-faec-45d8-8bbd-2c4afe683709",
   "metadata": {},
   "outputs": [],
   "source": [
    "train = '/home/studio-lab-user/chest-xray-pneumonia/data/train'\n",
    "val = '/home/studio-lab-user/chest-xray-pneumonia/data/val'\n",
    "test = '/home/studio-lab-user/chest-xray-pneumonia/data/test'"
   ]
  },
  {
   "cell_type": "code",
   "execution_count": 3,
   "id": "18177b13-2a5d-4a0e-ac2e-a8b1ca99c29f",
   "metadata": {},
   "outputs": [],
   "source": [
    "IMG_HEIGHT = 224\n",
    "IMG_WIDTH = 224\n",
    "BATCH_SIZE = 32"
   ]
  },
  {
   "cell_type": "code",
   "execution_count": 4,
   "id": "5574e07b-8f2a-431a-b4d3-f0326d554323",
   "metadata": {},
   "outputs": [],
   "source": [
    "train_dt = tf.keras.preprocessing.image.ImageDataGenerator(\n",
    "    rescale = 1./225,\n",
    "    rotation_range = 20,\n",
    "    brightness_range = (1.2,1.5),\n",
    "    horizontal_flip = True\n",
    ")\n",
    "val_dt = tf.keras.preprocessing.image.ImageDataGenerator(rescale = 1./225)\n",
    "test_dt = tf.keras.preprocessing.image.ImageDataGenerator(rescale = 1./225)"
   ]
  },
  {
   "cell_type": "code",
   "execution_count": 5,
   "id": "e00bd3df-2caf-4608-bbd0-0fa5cf5c34c6",
   "metadata": {},
   "outputs": [
    {
     "name": "stdout",
     "output_type": "stream",
     "text": [
      "Found 5216 images belonging to 2 classes.\n",
      "Found 16 images belonging to 2 classes.\n",
      "Found 628 images belonging to 2 classes.\n"
     ]
    }
   ],
   "source": [
    "train_data = train_dt.flow_from_directory(\n",
    "    train,\n",
    "    target_size = (IMG_HEIGHT, IMG_WIDTH),\n",
    "    class_mode = 'binary',\n",
    "    batch_size = BATCH_SIZE\n",
    ")\n",
    "val_data = train_dt.flow_from_directory(\n",
    "    val,\n",
    "    target_size = (IMG_HEIGHT, IMG_WIDTH),\n",
    "    class_mode = 'binary',\n",
    "    batch_size = BATCH_SIZE\n",
    ")\n",
    "test_data = train_dt.flow_from_directory(\n",
    "    test,\n",
    "    target_size = (IMG_HEIGHT, IMG_WIDTH),\n",
    "    class_mode = 'binary',\n",
    "    batch_size = BATCH_SIZE\n",
    ")"
   ]
  },
  {
   "cell_type": "markdown",
   "id": "8e27cb17-0c48-4d15-8253-cc6b7c514a5e",
   "metadata": {},
   "source": [
    "## Building Model"
   ]
  },
  {
   "cell_type": "code",
   "execution_count": 6,
   "id": "d21c88d8-dd42-4eda-b863-aaae20b22df4",
   "metadata": {},
   "outputs": [],
   "source": [
    "mobilenet = tf.keras.applications.MobileNetV2(\n",
    "    input_shape = (IMG_HEIGHT, IMG_WIDTH, 3),\n",
    "    include_top = False,\n",
    "    weights = 'imagenet',\n",
    "    pooling = 'avg'\n",
    ")\n",
    "mobilenet.trainable = False"
   ]
  },
  {
   "cell_type": "code",
   "execution_count": 7,
   "id": "8eae77da-05ac-4f87-a1fd-ce28e853242d",
   "metadata": {},
   "outputs": [
    {
     "name": "stdout",
     "output_type": "stream",
     "text": [
      "Model: \"model\"\n",
      "_________________________________________________________________\n",
      " Layer (type)                Output Shape              Param #   \n",
      "=================================================================\n",
      " input_2 (InputLayer)        [(None, 224, 224, 3)]     0         \n",
      "                                                                 \n",
      " mobilenetv2_1.00_224 (Funct  (None, 1280)             2257984   \n",
      " ional)                                                          \n",
      "                                                                 \n",
      " dense (Dense)               (None, 1024)              1311744   \n",
      "                                                                 \n",
      " dense_1 (Dense)             (None, 1)                 1025      \n",
      "                                                                 \n",
      "=================================================================\n",
      "Total params: 3,570,753\n",
      "Trainable params: 1,312,769\n",
      "Non-trainable params: 2,257,984\n",
      "_________________________________________________________________\n",
      "None\n"
     ]
    }
   ],
   "source": [
    "EPOCH = 50\n",
    "inputs = tf.keras.Input(shape = (IMG_HEIGHT, IMG_WIDTH,3))\n",
    "pretrained_model = mobilenet(inputs , training = False)\n",
    "dense = tf.keras.layers.Dense(1024, activation = 'relu')(pretrained_model)\n",
    "outputs = tf.keras.layers.Dense(1,activation = 'sigmoid')(dense)\n",
    "\n",
    "model = tf.keras.Model(inputs, outputs)\n",
    "print(model.summary())"
   ]
  },
  {
   "cell_type": "code",
   "execution_count": 10,
   "id": "cf3a54d8-e29f-4903-9b53-2d3efdc83f5b",
   "metadata": {},
   "outputs": [
    {
     "name": "stdout",
     "output_type": "stream",
     "text": [
      "Epoch 1/50\n",
      "163/163 [==============================] - 92s 549ms/step - loss: 0.0839 - accuracy: 0.9657 - auc: 0.9944 - val_loss: 0.4105 - val_accuracy: 0.8750 - val_auc: 0.9609\n",
      "Epoch 2/50\n",
      "163/163 [==============================] - 88s 541ms/step - loss: 0.0816 - accuracy: 0.9689 - auc: 0.9944 - val_loss: 0.7286 - val_accuracy: 0.6875 - val_auc: 1.0000\n",
      "Epoch 3/50\n",
      "163/163 [==============================] - 88s 540ms/step - loss: 0.0839 - accuracy: 0.9676 - auc: 0.9942 - val_loss: 1.2191 - val_accuracy: 0.6250 - val_auc: 0.9375\n",
      "Epoch 4/50\n",
      "163/163 [==============================] - 89s 543ms/step - loss: 0.0708 - accuracy: 0.9732 - auc: 0.9954 - val_loss: 0.2853 - val_accuracy: 0.8750 - val_auc: 0.9375\n",
      "Epoch 5/50\n",
      "163/163 [==============================] - 89s 543ms/step - loss: 0.0682 - accuracy: 0.9734 - auc: 0.9960 - val_loss: 0.2598 - val_accuracy: 0.9375 - val_auc: 0.9688\n",
      "Epoch 6/50\n",
      "163/163 [==============================] - 88s 538ms/step - loss: 0.0770 - accuracy: 0.9712 - auc: 0.9948 - val_loss: 0.6884 - val_accuracy: 0.6875 - val_auc: 1.0000\n",
      "Epoch 7/50\n",
      "163/163 [==============================] - 88s 542ms/step - loss: 0.0640 - accuracy: 0.9747 - auc: 0.9966 - val_loss: 0.7438 - val_accuracy: 0.6875 - val_auc: 0.9219\n",
      "Epoch 8/50\n",
      "163/163 [==============================] - 88s 543ms/step - loss: 0.0684 - accuracy: 0.9728 - auc: 0.9961 - val_loss: 0.2676 - val_accuracy: 0.8125 - val_auc: 1.0000\n"
     ]
    }
   ],
   "source": [
    "model.compile(\n",
    "    optimizer = 'adam',\n",
    "    loss = 'binary_crossentropy',\n",
    "    metrics = ['accuracy' , tf.keras.metrics.AUC(name = 'auc')]\n",
    ")\n",
    "history = model.fit(\n",
    "    train_data,\n",
    "    validation_data = val_data,\n",
    "    batch_size = BATCH_SIZE,\n",
    "    epochs = EPOCH,\n",
    "    callbacks = [tf.keras.callbacks.EarlyStopping(\n",
    "        monitor = 'val_loss',\n",
    "        patience = 3,\n",
    "        restore_best_weights = True )\n",
    "                ]\n",
    ")"
   ]
  },
  {
   "cell_type": "code",
   "execution_count": 16,
   "id": "7af1bbad-0e42-4818-afaa-d46bf87a3cd7",
   "metadata": {},
   "outputs": [
    {
     "name": "stdout",
     "output_type": "stream",
     "text": [
      "20/20 [==============================] - 10s 503ms/step\n"
     ]
    }
   ],
   "source": [
    "true_lables = test_data.labels\n",
    "pred_lables = np.squeeze(np.array(model.predict(test_data) >=0.5,dtype = int))\n",
    "cm = confusion_matrix(true_lables, pred_lables)"
   ]
  },
  {
   "cell_type": "code",
   "execution_count": 25,
   "id": "46a6b651-8fde-445c-9d92-9d14009283b0",
   "metadata": {},
   "outputs": [
    {
     "data": {
      "image/png": "[encoded data removed]",
      "text/plain": [
       "<Figure size 720x720 with 1 Axes>"
      ]
     },
     "metadata": {
      "needs_background": "light"
     },
     "output_type": "display_data"
    }
   ],
   "source": [
    "plt.figure(figsize = (10,10))\n",
    "sns.heatmap(cm,annot = True, fmt = 'g', vmin = 0, cmap = 'mako', cbar = False)\n",
    "plt.xlabel('Predicted', fontsize = 23)\n",
    "plt.ylabel('Actual', fontsize = 23)\n",
    "plt.xticks(np.arange(2) + 0.5,['Normal','Pneumonia'], fontsize = 16)\n",
    "plt.yticks(np.arange(2) + 0.5,['Normal','Pneumonia'], fontsize = 16)\n",
    "plt.show()"
   ]
  },
  {
   "cell_type": "code",
   "execution_count": 18,
   "id": "6cca6b2c-8595-449b-a257-d6a5632650da",
   "metadata": {},
   "outputs": [],
   "source": [
    "result = model.evaluate(test_data, verbose = 0)\n",
    "accuracy = result[1]\n",
    "auc = result[2]"
   ]
  },
  {
   "cell_type": "code",
   "execution_count": 19,
   "id": "0816ca36-4f08-49ac-8962-22f0607ab0b3",
   "metadata": {},
   "outputs": [],
   "source": [
    "tn, fp,fn,tp = cm.ravel()\n",
    "precision = tp/(tp+fp)\n",
    "recall = tp/(tp+fn)"
   ]
  },
  {
   "cell_type": "code",
   "execution_count": 20,
   "id": "dfb6c290-563e-426e-a4ef-2f3ef6401fd4",
   "metadata": {},
   "outputs": [
    {
     "name": "stdout",
     "output_type": "stream",
     "text": [
      "Accuracy: 0.88\n",
      "ACC: 0.95\n",
      "Precision: 0.61\n",
      "Recall: 0.68\n"
     ]
    }
   ],
   "source": [
    "print('Accuracy: {:.2f}'.format(accuracy))\n",
    "print('ACC: {:.2f}'.format(auc))\n",
    "print('Precision: {:.2f}'.format(precision))\n",
    "print('Recall: {:.2f}'.format(recall))"
   ]
  },
  {
   "cell_type": "code",
   "execution_count": null,
   "id": "ef2bcaa5-760f-4ab4-b425-2c2140b38eba",
   "metadata": {},
   "outputs": [],
   "source": []
  }
 ],
 "metadata": {
  "kernelspec": {
   "display_name": "default:Python",
   "language": "python",
   "name": "conda-env-default-py"
  },
  "language_info": {
   "codemirror_mode": {
    "name": "ipython",
    "version": 3
   },
   "file_extension": ".py",
   "mimetype": "text/x-python",
   "name": "python",
   "nbconvert_exporter": "python",
   "pygments_lexer": "ipython3",
   "version": "3.9.13"
  }
 },
 "nbformat": 4,
 "nbformat_minor": 5
}
